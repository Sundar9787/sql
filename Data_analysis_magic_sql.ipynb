{
  "nbformat": 4,
  "nbformat_minor": 0,
  "metadata": {
    "colab": {
      "provenance": []
    },
    "kernelspec": {
      "name": "python3",
      "display_name": "Python 3"
    },
    "language_info": {
      "name": "python"
    }
  },
  "cells": [
    {
      "cell_type": "code",
      "source": [
        "#importing sql\n",
        "import sqlite3"
      ],
      "metadata": {
        "id": "n5BKth99Dlbf"
      },
      "execution_count": 29,
      "outputs": []
    },
    {
      "cell_type": "code",
      "source": [
        "#connecting the database\n",
        "conn = sqlite3.connect('test.db')\n",
        "#creating cursor object\n",
        "cur = conn.cursor()"
      ],
      "metadata": {
        "id": "Yo_1-lRXDqlZ"
      },
      "execution_count": 30,
      "outputs": []
    },
    {
      "cell_type": "code",
      "source": [
        "#connecting to magic sql\n",
        "%sql sqlite:///test.db"
      ],
      "metadata": {
        "id": "jd5aH5FtD0Oy"
      },
      "execution_count": 31,
      "outputs": []
    },
    {
      "cell_type": "code",
      "source": [
        "import pandas as pd\n",
        "#loading dataset\n",
        "df =pd.read_csv('/content/world_cities.csv')\n",
        "print(df)"
      ],
      "metadata": {
        "colab": {
          "base_uri": "https://localhost:8080/"
        },
        "id": "KBV6zSVIEKqj",
        "outputId": "995c7e5e-99d8-44dc-97e2-fa3d37cda590"
      },
      "execution_count": 32,
      "outputs": [
        {
          "output_type": "stream",
          "name": "stdout",
          "text": [
            "        city_name  avg_temp  avg_commute  happiness_ranking\n",
            "0          Boston        62           55                 27\n",
            "1    Buenos Aires        70           60                  7\n",
            "2          Sydney        72           69                  6\n",
            "3           Tokyo        60           70                 26\n",
            "4     Los Angeles        70          100                 20\n",
            "5   San Francisco        65           80                 21\n",
            "6         Beijing        64           50                 22\n",
            "7          Zurich        65           45                 23\n",
            "8        Shanghai        70           80                  3\n",
            "9           Dubai        80           55                 24\n",
            "10         London        59           45                 25\n",
            "11         Dublin        60           45                  8\n",
            "12      New Delhi        80           60                  4\n",
            "13          Perth        68           38                 19\n",
            "14        Chicago        58           55                 18\n",
            "15        Seattle        60           48                 17\n",
            "16        Toronto        60           50                  2\n",
            "17    Mexico City        70           30                 16\n",
            "18         Berlin        68           40                 13\n",
            "19      Cape Town        72           48                 14\n",
            "20          Lagos        80           38                  5\n",
            "21    Panama City        80           40                 15\n",
            "22      Singapore        75           40                 12\n",
            "23         Jakata        78           35                 10\n",
            "24          Seoul        60           90                  9\n",
            "25        Phoenix        70           45                 11\n",
            "26      Amsterdam        67           20                  1\n"
          ]
        }
      ]
    },
    {
      "cell_type": "code",
      "source": [
        "#changing the df to sql form\n",
        "df.to_sql('world_cities', conn, if_exists='replace', index=False)"
      ],
      "metadata": {
        "colab": {
          "base_uri": "https://localhost:8080/"
        },
        "id": "wwDsyMINEe-1",
        "outputId": "482a6972-434e-40f0-de3f-3710f680c908"
      },
      "execution_count": 33,
      "outputs": [
        {
          "output_type": "execute_result",
          "data": {
            "text/plain": [
              "27"
            ]
          },
          "metadata": {},
          "execution_count": 33
        }
      ]
    },
    {
      "cell_type": "code",
      "source": [
        "#start using sql\n",
        "%sql SELECT * FROM world_cities limit 10"
      ],
      "metadata": {
        "colab": {
          "base_uri": "https://localhost:8080/",
          "height": 299
        },
        "id": "SaCrdvsFEhuF",
        "outputId": "063d1b9d-3c8b-4866-bd3f-b690e4d98055"
      },
      "execution_count": 35,
      "outputs": [
        {
          "output_type": "stream",
          "name": "stdout",
          "text": [
            "   sqlite:///new1.db\n",
            " * sqlite:///test.db\n",
            "Done.\n"
          ]
        },
        {
          "output_type": "execute_result",
          "data": {
            "text/plain": [
              "[('Boston', 62, 55, 27),\n",
              " ('Buenos Aires', 70, 60, 7),\n",
              " ('Sydney', 72, 69, 6),\n",
              " ('Tokyo', 60, 70, 26),\n",
              " ('Los Angeles', 70, 100, 20),\n",
              " ('San Francisco', 65, 80, 21),\n",
              " ('Beijing', 64, 50, 22),\n",
              " ('Zurich', 65, 45, 23),\n",
              " ('Shanghai', 70, 80, 3),\n",
              " ('Dubai', 80, 55, 24)]"
            ],
            "text/html": [
              "<table>\n",
              "    <thead>\n",
              "        <tr>\n",
              "            <th>city_name</th>\n",
              "            <th>avg_temp</th>\n",
              "            <th>avg_commute</th>\n",
              "            <th>happiness_ranking</th>\n",
              "        </tr>\n",
              "    </thead>\n",
              "    <tbody>\n",
              "        <tr>\n",
              "            <td>Boston</td>\n",
              "            <td>62</td>\n",
              "            <td>55</td>\n",
              "            <td>27</td>\n",
              "        </tr>\n",
              "        <tr>\n",
              "            <td>Buenos Aires</td>\n",
              "            <td>70</td>\n",
              "            <td>60</td>\n",
              "            <td>7</td>\n",
              "        </tr>\n",
              "        <tr>\n",
              "            <td>Sydney</td>\n",
              "            <td>72</td>\n",
              "            <td>69</td>\n",
              "            <td>6</td>\n",
              "        </tr>\n",
              "        <tr>\n",
              "            <td>Tokyo</td>\n",
              "            <td>60</td>\n",
              "            <td>70</td>\n",
              "            <td>26</td>\n",
              "        </tr>\n",
              "        <tr>\n",
              "            <td>Los Angeles</td>\n",
              "            <td>70</td>\n",
              "            <td>100</td>\n",
              "            <td>20</td>\n",
              "        </tr>\n",
              "        <tr>\n",
              "            <td>San Francisco</td>\n",
              "            <td>65</td>\n",
              "            <td>80</td>\n",
              "            <td>21</td>\n",
              "        </tr>\n",
              "        <tr>\n",
              "            <td>Beijing</td>\n",
              "            <td>64</td>\n",
              "            <td>50</td>\n",
              "            <td>22</td>\n",
              "        </tr>\n",
              "        <tr>\n",
              "            <td>Zurich</td>\n",
              "            <td>65</td>\n",
              "            <td>45</td>\n",
              "            <td>23</td>\n",
              "        </tr>\n",
              "        <tr>\n",
              "            <td>Shanghai</td>\n",
              "            <td>70</td>\n",
              "            <td>80</td>\n",
              "            <td>3</td>\n",
              "        </tr>\n",
              "        <tr>\n",
              "            <td>Dubai</td>\n",
              "            <td>80</td>\n",
              "            <td>55</td>\n",
              "            <td>24</td>\n",
              "        </tr>\n",
              "    </tbody>\n",
              "</table>"
            ]
          },
          "metadata": {},
          "execution_count": 35
        }
      ]
    },
    {
      "cell_type": "code",
      "source": [
        "#inserting values\n",
        "%%sql\n",
        "insert into world_cities\n",
        "values('Chennai',73,65,58);\n",
        "select * from world_cities;"
      ],
      "metadata": {
        "colab": {
          "base_uri": "https://localhost:8080/",
          "height": 691
        },
        "id": "nIV96B0AEo3W",
        "outputId": "21992bbb-ec32-4efa-f393-673bf1c7a359"
      },
      "execution_count": 36,
      "outputs": [
        {
          "output_type": "stream",
          "name": "stdout",
          "text": [
            "   sqlite:///new1.db\n",
            " * sqlite:///test.db\n",
            "1 rows affected.\n",
            "Done.\n"
          ]
        },
        {
          "output_type": "execute_result",
          "data": {
            "text/plain": [
              "[('Boston', 62, 55, 27),\n",
              " ('Buenos Aires', 70, 60, 7),\n",
              " ('Sydney', 72, 69, 6),\n",
              " ('Tokyo', 60, 70, 26),\n",
              " ('Los Angeles', 70, 100, 20),\n",
              " ('San Francisco', 65, 80, 21),\n",
              " ('Beijing', 64, 50, 22),\n",
              " ('Zurich', 65, 45, 23),\n",
              " ('Shanghai', 70, 80, 3),\n",
              " ('Dubai', 80, 55, 24),\n",
              " ('London', 59, 45, 25),\n",
              " ('Dublin', 60, 45, 8),\n",
              " ('New Delhi', 80, 60, 4),\n",
              " ('Perth', 68, 38, 19),\n",
              " ('Chicago', 58, 55, 18),\n",
              " ('Seattle', 60, 48, 17),\n",
              " ('Toronto', 60, 50, 2),\n",
              " ('Mexico City', 70, 30, 16),\n",
              " ('Berlin', 68, 40, 13),\n",
              " ('Cape Town', 72, 48, 14),\n",
              " ('Lagos', 80, 38, 5),\n",
              " ('Panama City', 80, 40, 15),\n",
              " ('Singapore', 75, 40, 12),\n",
              " ('Jakata', 78, 35, 10),\n",
              " ('Seoul', 60, 90, 9),\n",
              " ('Phoenix', 70, 45, 11),\n",
              " ('Amsterdam', 67, 20, 1),\n",
              " ('Chennai', 73, 65, 58)]"
            ],
            "text/html": [
              "<table>\n",
              "    <thead>\n",
              "        <tr>\n",
              "            <th>city_name</th>\n",
              "            <th>avg_temp</th>\n",
              "            <th>avg_commute</th>\n",
              "            <th>happiness_ranking</th>\n",
              "        </tr>\n",
              "    </thead>\n",
              "    <tbody>\n",
              "        <tr>\n",
              "            <td>Boston</td>\n",
              "            <td>62</td>\n",
              "            <td>55</td>\n",
              "            <td>27</td>\n",
              "        </tr>\n",
              "        <tr>\n",
              "            <td>Buenos Aires</td>\n",
              "            <td>70</td>\n",
              "            <td>60</td>\n",
              "            <td>7</td>\n",
              "        </tr>\n",
              "        <tr>\n",
              "            <td>Sydney</td>\n",
              "            <td>72</td>\n",
              "            <td>69</td>\n",
              "            <td>6</td>\n",
              "        </tr>\n",
              "        <tr>\n",
              "            <td>Tokyo</td>\n",
              "            <td>60</td>\n",
              "            <td>70</td>\n",
              "            <td>26</td>\n",
              "        </tr>\n",
              "        <tr>\n",
              "            <td>Los Angeles</td>\n",
              "            <td>70</td>\n",
              "            <td>100</td>\n",
              "            <td>20</td>\n",
              "        </tr>\n",
              "        <tr>\n",
              "            <td>San Francisco</td>\n",
              "            <td>65</td>\n",
              "            <td>80</td>\n",
              "            <td>21</td>\n",
              "        </tr>\n",
              "        <tr>\n",
              "            <td>Beijing</td>\n",
              "            <td>64</td>\n",
              "            <td>50</td>\n",
              "            <td>22</td>\n",
              "        </tr>\n",
              "        <tr>\n",
              "            <td>Zurich</td>\n",
              "            <td>65</td>\n",
              "            <td>45</td>\n",
              "            <td>23</td>\n",
              "        </tr>\n",
              "        <tr>\n",
              "            <td>Shanghai</td>\n",
              "            <td>70</td>\n",
              "            <td>80</td>\n",
              "            <td>3</td>\n",
              "        </tr>\n",
              "        <tr>\n",
              "            <td>Dubai</td>\n",
              "            <td>80</td>\n",
              "            <td>55</td>\n",
              "            <td>24</td>\n",
              "        </tr>\n",
              "        <tr>\n",
              "            <td>London</td>\n",
              "            <td>59</td>\n",
              "            <td>45</td>\n",
              "            <td>25</td>\n",
              "        </tr>\n",
              "        <tr>\n",
              "            <td>Dublin</td>\n",
              "            <td>60</td>\n",
              "            <td>45</td>\n",
              "            <td>8</td>\n",
              "        </tr>\n",
              "        <tr>\n",
              "            <td>New Delhi</td>\n",
              "            <td>80</td>\n",
              "            <td>60</td>\n",
              "            <td>4</td>\n",
              "        </tr>\n",
              "        <tr>\n",
              "            <td>Perth</td>\n",
              "            <td>68</td>\n",
              "            <td>38</td>\n",
              "            <td>19</td>\n",
              "        </tr>\n",
              "        <tr>\n",
              "            <td>Chicago</td>\n",
              "            <td>58</td>\n",
              "            <td>55</td>\n",
              "            <td>18</td>\n",
              "        </tr>\n",
              "        <tr>\n",
              "            <td>Seattle</td>\n",
              "            <td>60</td>\n",
              "            <td>48</td>\n",
              "            <td>17</td>\n",
              "        </tr>\n",
              "        <tr>\n",
              "            <td>Toronto</td>\n",
              "            <td>60</td>\n",
              "            <td>50</td>\n",
              "            <td>2</td>\n",
              "        </tr>\n",
              "        <tr>\n",
              "            <td>Mexico City</td>\n",
              "            <td>70</td>\n",
              "            <td>30</td>\n",
              "            <td>16</td>\n",
              "        </tr>\n",
              "        <tr>\n",
              "            <td>Berlin</td>\n",
              "            <td>68</td>\n",
              "            <td>40</td>\n",
              "            <td>13</td>\n",
              "        </tr>\n",
              "        <tr>\n",
              "            <td>Cape Town</td>\n",
              "            <td>72</td>\n",
              "            <td>48</td>\n",
              "            <td>14</td>\n",
              "        </tr>\n",
              "        <tr>\n",
              "            <td>Lagos</td>\n",
              "            <td>80</td>\n",
              "            <td>38</td>\n",
              "            <td>5</td>\n",
              "        </tr>\n",
              "        <tr>\n",
              "            <td>Panama City</td>\n",
              "            <td>80</td>\n",
              "            <td>40</td>\n",
              "            <td>15</td>\n",
              "        </tr>\n",
              "        <tr>\n",
              "            <td>Singapore</td>\n",
              "            <td>75</td>\n",
              "            <td>40</td>\n",
              "            <td>12</td>\n",
              "        </tr>\n",
              "        <tr>\n",
              "            <td>Jakata</td>\n",
              "            <td>78</td>\n",
              "            <td>35</td>\n",
              "            <td>10</td>\n",
              "        </tr>\n",
              "        <tr>\n",
              "            <td>Seoul</td>\n",
              "            <td>60</td>\n",
              "            <td>90</td>\n",
              "            <td>9</td>\n",
              "        </tr>\n",
              "        <tr>\n",
              "            <td>Phoenix</td>\n",
              "            <td>70</td>\n",
              "            <td>45</td>\n",
              "            <td>11</td>\n",
              "        </tr>\n",
              "        <tr>\n",
              "            <td>Amsterdam</td>\n",
              "            <td>67</td>\n",
              "            <td>20</td>\n",
              "            <td>1</td>\n",
              "        </tr>\n",
              "        <tr>\n",
              "            <td>Chennai</td>\n",
              "            <td>73</td>\n",
              "            <td>65</td>\n",
              "            <td>58</td>\n",
              "        </tr>\n",
              "    </tbody>\n",
              "</table>"
            ]
          },
          "metadata": {},
          "execution_count": 36
        }
      ]
    },
    {
      "cell_type": "code",
      "source": [
        "#print city with lowest happiness ranking\n",
        "%%sql\n",
        "select city_name, happiness_ranking from world_cities order by happiness_ranking desc limit 1;"
      ],
      "metadata": {
        "colab": {
          "base_uri": "https://localhost:8080/",
          "height": 112
        },
        "id": "0apE6C86FWg9",
        "outputId": "9e65db14-da93-4105-ca0e-ce86ac3361e7"
      },
      "execution_count": 43,
      "outputs": [
        {
          "output_type": "stream",
          "name": "stdout",
          "text": [
            "   sqlite:///new1.db\n",
            " * sqlite:///test.db\n",
            "Done.\n"
          ]
        },
        {
          "output_type": "execute_result",
          "data": {
            "text/plain": [
              "[('Chennai', 58)]"
            ],
            "text/html": [
              "<table>\n",
              "    <thead>\n",
              "        <tr>\n",
              "            <th>city_name</th>\n",
              "            <th>happiness_ranking</th>\n",
              "        </tr>\n",
              "    </thead>\n",
              "    <tbody>\n",
              "        <tr>\n",
              "            <td>Chennai</td>\n",
              "            <td>58</td>\n",
              "        </tr>\n",
              "    </tbody>\n",
              "</table>"
            ]
          },
          "metadata": {},
          "execution_count": 43
        }
      ]
    }
  ]
}